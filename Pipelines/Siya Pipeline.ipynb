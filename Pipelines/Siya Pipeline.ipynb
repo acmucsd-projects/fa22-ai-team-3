{
 "cells": [
  {
   "cell_type": "code",
   "execution_count": 96,
   "id": "a5484fad",
   "metadata": {},
   "outputs": [],
   "source": [
    "#https://www.youtube.com/watch?v=xIqX1dqcNbY\n",
    "import pandas as pd\n",
    "import numpy as np"
   ]
  },
  {
   "cell_type": "code",
   "execution_count": 97,
   "id": "63a2d637",
   "metadata": {},
   "outputs": [],
   "source": [
    "df=pd.read_csv('creditcard.csv')\n",
    "numOfRows= len(df.index)\n",
    "halfRows= (numOfRows/2)-0.5\n",
    "#Use the first half as training rows and hte second half as test rows\n",
    "train_df=df.head(142403)\n",
    "test_df= df.tail(142403)\n",
    "test_df=test_df.reset_index()"
   ]
  },
  {
   "cell_type": "code",
   "execution_count": 98,
   "id": "c1d1a7ce",
   "metadata": {},
   "outputs": [
    {
     "data": {
      "text/plain": [
       "((142403, 31), (142403,), (142403, 31), (142403,))"
      ]
     },
     "execution_count": 98,
     "metadata": {},
     "output_type": "execute_result"
    }
   ],
   "source": [
    "#Grab all the rows and all the columns up until but not included the last one. There are 2 statements for X_train and y_train respectively\n",
    "X_train, y_train= train_df.to_numpy()[:, :], train_df.to_numpy()[:, -1]\n",
    "X_test, y_test= test_df.to_numpy()[:, :-1], test_df.to_numpy()[:, -1]\n",
    "\n",
    "#shows number of rows and columns for each\n",
    "X_train.shape, y_train.shape, X_test.shape, y_test.shape\n"
   ]
  },
  {
   "cell_type": "code",
   "execution_count": 99,
   "id": "fc85a549",
   "metadata": {},
   "outputs": [],
   "source": [
    "from sklearn.preprocessing import StandardScaler, MinMaxScaler, FunctionTransformer\n",
    "#standardscaler converts to min-max curve, and minmaxscaler converts to [-1, 1]\n",
    "from copy import deepcopy\n",
    "\n",
    "#use standard scaler on all rows and first 2 columns\n",
    "std_scaler= StandardScaler().fit(X_train[:, :2])\n",
    "min_max_scaler= MinMaxScaler().fit(X_train[:, 2:])\n",
    "\n",
    "def preprocessor(X):\n",
    "    A= np.copy(X)\n",
    "    A[:, :2] = std_scaler.transform(X[:, :2])\n",
    "    A[:, 2:] = min_max_scaler.transform(X[:, 2:])\n",
    "    return A\n"
   ]
  },
  {
   "cell_type": "code",
   "execution_count": 100,
   "id": "3b689841",
   "metadata": {},
   "outputs": [
    {
     "data": {
      "text/plain": [
       "array([[ 4.26455001e+00,  4.66872664e+04,  7.88880279e-01, ...,\n",
       "         2.62501153e-01, -5.84680686e-07,  1.90000000e+01],\n",
       "       [ 4.26459740e+00,  4.66878176e+04,  7.40547551e-01, ...,\n",
       "         2.88686214e-01, -6.50896808e-06,  1.23100000e+01],\n",
       "       [ 4.26464478e+00,  4.66883689e+04,  8.04740301e-01, ...,\n",
       "         2.57214365e-01,  1.56495492e-06,  6.66000000e+01],\n",
       "       ...,\n",
       "       [ 1.10119350e+01,  9.52497523e+04,  8.14634085e-01, ...,\n",
       "         2.57148460e-01, -1.35124707e-06,  6.78800000e+01],\n",
       "       [ 1.10119824e+01,  9.52497523e+04,  7.91057923e-01, ...,\n",
       "         2.59439261e-01,  5.31796922e-06,  1.00000000e+01],\n",
       "       [ 1.10120298e+01,  9.52519573e+04,  7.87860168e-01, ...,\n",
       "         2.56997663e-01,  6.94370488e-07,  2.17000000e+02]])"
      ]
     },
     "execution_count": 100,
     "metadata": {},
     "output_type": "execute_result"
    }
   ],
   "source": [
    "preprocessor(X_test)"
   ]
  },
  {
   "cell_type": "code",
   "execution_count": 101,
   "id": "5c133925",
   "metadata": {},
   "outputs": [
    {
     "data": {
      "text/plain": [
       "FunctionTransformer(func=<function preprocessor at 0x11c5a1a60>)"
      ]
     },
     "execution_count": 101,
     "metadata": {},
     "output_type": "execute_result"
    }
   ],
   "source": [
    "preprocess_transformer = FunctionTransformer(preprocessor)\n",
    "preprocess_transformer"
   ]
  },
  {
   "cell_type": "code",
   "execution_count": 102,
   "id": "f3b715de",
   "metadata": {},
   "outputs": [
    {
     "data": {
      "text/plain": [
       "Pipeline(steps=[('Scaler',\n",
       "                 FunctionTransformer(func=<function preprocessor at 0x11c5a1a60>)),\n",
       "                ('Linear Regression', LinearRegression())])"
      ]
     },
     "execution_count": 102,
     "metadata": {},
     "output_type": "execute_result"
    }
   ],
   "source": [
    "from sklearn.pipeline import Pipeline\n",
    "from sklearn.linear_model import LinearRegression\n",
    "\n",
    "#first pipeline\n",
    "p1=Pipeline([('Scaler', preprocess_transformer), \n",
    "            ('Linear Regression', LinearRegression())])\n",
    "p1"
   ]
  },
  {
   "cell_type": "code",
   "execution_count": 103,
   "id": "e2a48aa0",
   "metadata": {},
   "outputs": [],
   "source": [
    "from sklearn.metrics import mean_absolute_error\n",
    "\n",
    "def fit_and_print(p, X_train=X_train, y_train=y_train, X_test=X_test, y_test=y_test):\n",
    "    p.fit(X_train, y_train)\n",
    "    train_preds= p.predict(X_train)\n",
    "    test_preds=p.predict(X_test)\n",
    "    print('Training Error: ' + str(mean_absolute_error(train_preds, y_train)))\n",
    "    print('Test error: '+ str(mean_absolute_error(test_preds, y_test)))\n",
    "    "
   ]
  },
  {
   "cell_type": "code",
   "execution_count": 104,
   "id": "3c32d7f0",
   "metadata": {},
   "outputs": [
    {
     "name": "stdout",
     "output_type": "stream",
     "text": [
      "Training Error: 5.106677654278382e-17\n",
      "Test error: 86.01152510831706\n"
     ]
    }
   ],
   "source": [
    "fit_and_print(p1)"
   ]
  },
  {
   "cell_type": "code",
   "execution_count": 105,
   "id": "cc9f65dd",
   "metadata": {},
   "outputs": [],
   "source": [
    "#the Linear Regression model is not great so try a better model: KNeighborsRegressor\n",
    "from sklearn.neighbors import KNeighborsRegressor as KNR\n",
    "\n",
    "p2= Pipeline([('Scaler', preprocess_transformer), \n",
    "            ('KNN Regression', KNR(n_neighbors=7))])\n",
    "\n"
   ]
  },
  {
   "cell_type": "code",
   "execution_count": null,
   "id": "c0245cb5",
   "metadata": {},
   "outputs": [],
   "source": [
    "fit_and_print(p2)"
   ]
  },
  {
   "cell_type": "code",
   "execution_count": null,
   "id": "ce0676c5",
   "metadata": {},
   "outputs": [],
   "source": [
    "#Try Random Forest\n",
    "from sklearn.ensemble import RandomForestRegressor as RFR\n",
    "\n",
    "p3= Pipeline([('scaler', preprocess_transformer),\n",
    "             ('Random Forest', RFR(n_estimators=10, max_depth=7))])\n"
   ]
  },
  {
   "cell_type": "code",
   "execution_count": null,
   "id": "09885b75",
   "metadata": {},
   "outputs": [],
   "source": [
    "fit_and_print(p3)"
   ]
  },
  {
   "cell_type": "code",
   "execution_count": null,
   "id": "e05bf7be",
   "metadata": {},
   "outputs": [],
   "source": []
  }
 ],
 "metadata": {
  "kernelspec": {
   "display_name": "Python 3 (ipykernel)",
   "language": "python",
   "name": "python3"
  },
  "language_info": {
   "codemirror_mode": {
    "name": "ipython",
    "version": 3
   },
   "file_extension": ".py",
   "mimetype": "text/x-python",
   "name": "python",
   "nbconvert_exporter": "python",
   "pygments_lexer": "ipython3",
   "version": "3.7.3"
  }
 },
 "nbformat": 4,
 "nbformat_minor": 5
}
