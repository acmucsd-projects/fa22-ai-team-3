{
 "cells": [
  {
   "cell_type": "code",
   "execution_count": 1,
   "id": "1a995ec9",
   "metadata": {},
   "outputs": [],
   "source": [
    "#https://www.youtube.com/watch?v=OtCq4NGvTaA\n",
    "import pandas as pd\n",
    "import numpy as np\n",
    "import statsmodels as sm\n",
    "from statsmodels.stats.outliers_influence import variance_inflation_factor\n",
    "\n",
    "from sklearn.model_selection import train_test_split,GridSearchCV,RandomizedSearchCV\n",
    "from sklearn.datasets import make_classification\n",
    "from sklearn.model_selection import train_test_split\n",
    "\n",
    "from sklearn.pipeline import Pipeline\n",
    "from sklearn.preprocessing import StandardScaler\n",
    "from sklearn.preprocessing import QuantileTransformer\n",
    "from sklearn.linear_model import LogisticRegression \n",
    "from sklearn.model_selection import ShuffleSplit\n",
    "from sklearn.model_selection import cross_val_score\n",
    "\n",
    "import pprint\n",
    "from pprint import pprint"
   ]
  },
  {
   "cell_type": "code",
   "execution_count": 2,
   "id": "2c05ce16",
   "metadata": {},
   "outputs": [],
   "source": [
    "df=pd.read_csv('creditcard.csv')\n",
    "df = df.rename(columns={'Class': 'Fraud'})"
   ]
  },
  {
   "cell_type": "code",
   "execution_count": 3,
   "id": "5b766999",
   "metadata": {},
   "outputs": [],
   "source": [
    "df['Fraud'] = df['Fraud'].astype(int)\n",
    "\n",
    "X = df.drop(['Fraud'], axis = 1)\n",
    "Y = df[\"Fraud\"]\n",
    "\n",
    "xData = X.values\n",
    "yData = Y.values"
   ]
  },
  {
   "cell_type": "code",
   "execution_count": 6,
   "id": "afdf51f9",
   "metadata": {},
   "outputs": [],
   "source": [
    "xTrain, xTest, yTrain, yTest = train_test_split(\n",
    "        xData, yData, test_size = 0.2, random_state = 42)\n",
    "from sklearn.ensemble import RandomForestRegressor as RFR\n",
    "\n",
    "#This is where we started changing things\n",
    "#pipe = Pipeline([('standardScaler', StandardScaler()), ('quantiletransformer', QuantileTransformer()), \n",
    "                 #('Random Forest', RFR(n_estimators=10, max_depth=7))])"
   ]
  },
  {
   "cell_type": "code",
   "execution_count": 7,
   "id": "3f739a3c",
   "metadata": {},
   "outputs": [
    {
     "data": {
      "text/plain": [
       "((227845, 30), (56962, 30), (227845,), (56962,))"
      ]
     },
     "execution_count": 7,
     "metadata": {},
     "output_type": "execute_result"
    }
   ],
   "source": [
    "xTrain.shape, xTest.shape, yTrain.shape, yTest.shape"
   ]
  },
  {
   "cell_type": "code",
   "execution_count": 9,
   "id": "b36d4bc7",
   "metadata": {},
   "outputs": [],
   "source": [
    "gsModel= RFR(random_state=42);\n",
    "\n",
    "params= {'n_estimators': [10, 50, 200, 300, 400, 500]}"
   ]
  },
  {
   "cell_type": "code",
   "execution_count": null,
   "id": "ff743e2c",
   "metadata": {},
   "outputs": [
    {
     "name": "stdout",
     "output_type": "stream",
     "text": [
      "Fitting 5 folds for each of 6 candidates, totalling 30 fits\n"
     ]
    }
   ],
   "source": [
    "search= GridSearchCV(estimator=gsModel, param_grid=params, cv=5, scoring= 'recall', verbose=2, n_jobs=-1)\n",
    "searc_model= search.fit(xTrain, yTrain);\n"
   ]
  },
  {
   "cell_type": "code",
   "execution_count": null,
   "id": "9c026e24",
   "metadata": {},
   "outputs": [],
   "source": [
    "#find the best parameter\n",
    "searc_model.best_params_"
   ]
  },
  {
   "cell_type": "code",
   "execution_count": null,
   "id": "d4678040",
   "metadata": {},
   "outputs": [],
   "source": [
    "#use the best parameter to predict y \n",
    "y_pred_search = searc_model.predict(xTest)"
   ]
  },
  {
   "cell_type": "code",
   "execution_count": null,
   "id": "af48c54a",
   "metadata": {},
   "outputs": [],
   "source": [
    "from sklearn.metrics import mean_absolute_error, mean_squared_error\n",
    "#Calculate mean absolute error and mean squared error comparing actual y and the predicted y using the best parameter\n",
    "mae_search= mean_absolute_error(yTest, y_pred_search)\n",
    "mse_search= mean_squared_error(yTest, y_pred_search)\n",
    "\n",
    "print(f'Gird search mae: {mae_search}, Grid Search mse: {mse_search}')\n",
    "      "
   ]
  },
  {
   "cell_type": "markdown",
   "id": "fa50a6f5",
   "metadata": {},
   "source": [
    "Now, look @ another paramter: max_depth"
   ]
  },
  {
   "cell_type": "code",
   "execution_count": null,
   "id": "fd76656e",
   "metadata": {},
   "outputs": [],
   "source": [
    "params2= {'max_depth': [5, 10, 15, 20, 25]}"
   ]
  },
  {
   "cell_type": "code",
   "execution_count": null,
   "id": "58030f73",
   "metadata": {},
   "outputs": [],
   "source": [
    "search2= GridSearchCV(estimator=gsModel, param_grid=params2, cv=5, scoring= 'recall', verbose=2, n_jobs=-1)\n",
    "search_model2= search.fit(xTrain, yTrain);\n"
   ]
  },
  {
   "cell_type": "code",
   "execution_count": null,
   "id": "1d8039ea",
   "metadata": {},
   "outputs": [],
   "source": [
    "search_model2.best_params_"
   ]
  },
  {
   "cell_type": "code",
   "execution_count": null,
   "id": "8c7673b6",
   "metadata": {},
   "outputs": [],
   "source": [
    "y_pred_search2 = search_model2.predict(xTest)"
   ]
  },
  {
   "cell_type": "code",
   "execution_count": null,
   "id": "671a22a1",
   "metadata": {},
   "outputs": [],
   "source": [
    "#Calculate mean absolute error and mean squared error comparing actual y and the predicted y using the best parameter\n",
    "mae_search= mean_absolute_error(yTest, y_pred_search2)\n",
    "mse_search= mean_squared_error(yTest, y_pred_search2)\n",
    "\n",
    "print(f'Gird search mae: {mae_search}, Grid Search mse: {mse_search}')\n",
    "      "
   ]
  }
 ],
 "metadata": {
  "kernelspec": {
   "display_name": "Python 3 (ipykernel)",
   "language": "python",
   "name": "python3"
  },
  "language_info": {
   "codemirror_mode": {
    "name": "ipython",
    "version": 3
   },
   "file_extension": ".py",
   "mimetype": "text/x-python",
   "name": "python",
   "nbconvert_exporter": "python",
   "pygments_lexer": "ipython3",
   "version": "3.7.3"
  }
 },
 "nbformat": 4,
 "nbformat_minor": 5
}
