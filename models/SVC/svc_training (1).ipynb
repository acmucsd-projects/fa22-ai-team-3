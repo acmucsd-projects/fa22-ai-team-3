{
  "nbformat": 4,
  "nbformat_minor": 0,
  "metadata": {
    "colab": {
      "provenance": []
    },
    "kernelspec": {
      "name": "python3",
      "display_name": "Python 3"
    },
    "language_info": {
      "name": "python"
    }
  },
  "cells": [
    {
      "cell_type": "markdown",
      "source": [
        "## Access file from drive"
      ],
      "metadata": {
        "id": "HZn63xt_A3X4"
      }
    },
    {
      "cell_type": "code",
      "source": [
        "from google.colab import drive\n",
        "drive.mount('/content/drive')"
      ],
      "metadata": {
        "colab": {
          "base_uri": "https://localhost:8080/"
        },
        "id": "fwflxEBU_qc3",
        "outputId": "93c1551a-0b01-4555-ef83-b5fee4550ce9"
      },
      "execution_count": 4,
      "outputs": [
        {
          "output_type": "stream",
          "name": "stdout",
          "text": [
            "Mounted at /content/drive\n"
          ]
        }
      ]
    },
    {
      "cell_type": "code",
      "source": [
        "df = pd.read_csv('/content/drive/My Drive/creditcard.csv')\n",
        "df = df.rename(columns={'Class': 'Fraud'})\n",
        "\n",
        "print(df.columns)"
      ],
      "metadata": {
        "colab": {
          "base_uri": "https://localhost:8080/"
        },
        "id": "tEOQtK-nD6cP",
        "outputId": "9fce9ae8-048d-4ccc-9a6b-2ec692cf213f"
      },
      "execution_count": 5,
      "outputs": [
        {
          "output_type": "stream",
          "name": "stdout",
          "text": [
            "Index(['Time', 'V1', 'V2', 'V3', 'V4', 'V5', 'V6', 'V7', 'V8', 'V9', 'V10',\n",
            "       'V11', 'V12', 'V13', 'V14', 'V15', 'V16', 'V17', 'V18', 'V19', 'V20',\n",
            "       'V21', 'V22', 'V23', 'V24', 'V25', 'V26', 'V27', 'V28', 'Amount',\n",
            "       'Fraud'],\n",
            "      dtype='object')\n"
          ]
        }
      ]
    },
    {
      "cell_type": "markdown",
      "source": [
        "## Imports"
      ],
      "metadata": {
        "id": "miZ7dm4GBAFo"
      }
    },
    {
      "cell_type": "code",
      "execution_count": 8,
      "metadata": {
        "id": "9IyWVYcG9MHD"
      },
      "outputs": [],
      "source": [
        "import pandas as pd\n",
        "import numpy as np\n",
        "import matplotlib.pyplot as plt\n",
        "import seaborn as sns\n",
        "import statsmodels as sm\n",
        "from statsmodels.stats.outliers_influence import variance_inflation_factor\n",
        "from sklearn.model_selection import train_test_split,GridSearchCV,RandomizedSearchCV\n",
        "from sklearn.linear_model import LinearRegression,Ridge,Lasso\n",
        "from sklearn.tree import DecisionTreeRegressor\n",
        "from sklearn.ensemble import RandomForestRegressor,GradientBoostingRegressor\n",
        "from sklearn.metrics import r2_score,mean_squared_error\n",
        "from sklearn import preprocessing\n",
        "\n",
        "from sklearn.svm import SVC\n",
        "from sklearn.preprocessing import MinMaxScaler\n",
        "from sklearn.preprocessing import QuantileTransformer\n",
        "from sklearn.preprocessing import FunctionTransformer\n",
        "from sklearn.datasets import make_classification\n",
        "from sklearn.model_selection import train_test_split\n",
        "from sklearn.pipeline import Pipeline\n",
        "from sklearn.linear_model import LogisticRegression \n",
        "from sklearn.model_selection import ShuffleSplit\n",
        "from sklearn.model_selection import cross_val_score\n",
        "\n",
        "import pprint\n",
        "from pprint import pprint"
      ]
    },
    {
      "cell_type": "markdown",
      "source": [
        "## Understand your data"
      ],
      "metadata": {
        "id": "4K2aLHsRBIDh"
      }
    },
    {
      "cell_type": "code",
      "source": [
        "#Printing out the first lines for an overview\n",
        "fraud = df.loc[df['Fraud'] == 1]\n",
        "fraud.head()"
      ],
      "metadata": {
        "colab": {
          "base_uri": "https://localhost:8080/",
          "height": 299
        },
        "id": "DN-km5KoA02c",
        "outputId": "5b61fa24-5417-4b04-f6c5-34669abfba15"
      },
      "execution_count": 9,
      "outputs": [
        {
          "output_type": "execute_result",
          "data": {
            "text/plain": [
              "        Time        V1        V2        V3        V4        V5        V6  \\\n",
              "541    406.0 -2.312227  1.951992 -1.609851  3.997906 -0.522188 -1.426545   \n",
              "623    472.0 -3.043541 -3.157307  1.088463  2.288644  1.359805 -1.064823   \n",
              "4920  4462.0 -2.303350  1.759247 -0.359745  2.330243 -0.821628 -0.075788   \n",
              "6108  6986.0 -4.397974  1.358367 -2.592844  2.679787 -1.128131 -1.706536   \n",
              "6329  7519.0  1.234235  3.019740 -4.304597  4.732795  3.624201 -1.357746   \n",
              "\n",
              "            V7        V8        V9  ...       V21       V22       V23  \\\n",
              "541  -2.537387  1.391657 -2.770089  ...  0.517232 -0.035049 -0.465211   \n",
              "623   0.325574 -0.067794 -0.270953  ...  0.661696  0.435477  1.375966   \n",
              "4920  0.562320 -0.399147 -0.238253  ... -0.294166 -0.932391  0.172726   \n",
              "6108 -3.496197 -0.248778 -0.247768  ...  0.573574  0.176968 -0.436207   \n",
              "6329  1.713445 -0.496358 -1.282858  ... -0.379068 -0.704181 -0.656805   \n",
              "\n",
              "           V24       V25       V26       V27       V28  Amount  Fraud  \n",
              "541   0.320198  0.044519  0.177840  0.261145 -0.143276    0.00      1  \n",
              "623  -0.293803  0.279798 -0.145362 -0.252773  0.035764  529.00      1  \n",
              "4920 -0.087330 -0.156114 -0.542628  0.039566 -0.153029  239.93      1  \n",
              "6108 -0.053502  0.252405 -0.657488 -0.827136  0.849573   59.00      1  \n",
              "6329 -1.632653  1.488901  0.566797 -0.010016  0.146793    1.00      1  \n",
              "\n",
              "[5 rows x 31 columns]"
            ],
            "text/html": [
              "\n",
              "  <div id=\"df-e6db830e-1735-45a8-8bd1-882179a8268d\">\n",
              "    <div class=\"colab-df-container\">\n",
              "      <div>\n",
              "<style scoped>\n",
              "    .dataframe tbody tr th:only-of-type {\n",
              "        vertical-align: middle;\n",
              "    }\n",
              "\n",
              "    .dataframe tbody tr th {\n",
              "        vertical-align: top;\n",
              "    }\n",
              "\n",
              "    .dataframe thead th {\n",
              "        text-align: right;\n",
              "    }\n",
              "</style>\n",
              "<table border=\"1\" class=\"dataframe\">\n",
              "  <thead>\n",
              "    <tr style=\"text-align: right;\">\n",
              "      <th></th>\n",
              "      <th>Time</th>\n",
              "      <th>V1</th>\n",
              "      <th>V2</th>\n",
              "      <th>V3</th>\n",
              "      <th>V4</th>\n",
              "      <th>V5</th>\n",
              "      <th>V6</th>\n",
              "      <th>V7</th>\n",
              "      <th>V8</th>\n",
              "      <th>V9</th>\n",
              "      <th>...</th>\n",
              "      <th>V21</th>\n",
              "      <th>V22</th>\n",
              "      <th>V23</th>\n",
              "      <th>V24</th>\n",
              "      <th>V25</th>\n",
              "      <th>V26</th>\n",
              "      <th>V27</th>\n",
              "      <th>V28</th>\n",
              "      <th>Amount</th>\n",
              "      <th>Fraud</th>\n",
              "    </tr>\n",
              "  </thead>\n",
              "  <tbody>\n",
              "    <tr>\n",
              "      <th>541</th>\n",
              "      <td>406.0</td>\n",
              "      <td>-2.312227</td>\n",
              "      <td>1.951992</td>\n",
              "      <td>-1.609851</td>\n",
              "      <td>3.997906</td>\n",
              "      <td>-0.522188</td>\n",
              "      <td>-1.426545</td>\n",
              "      <td>-2.537387</td>\n",
              "      <td>1.391657</td>\n",
              "      <td>-2.770089</td>\n",
              "      <td>...</td>\n",
              "      <td>0.517232</td>\n",
              "      <td>-0.035049</td>\n",
              "      <td>-0.465211</td>\n",
              "      <td>0.320198</td>\n",
              "      <td>0.044519</td>\n",
              "      <td>0.177840</td>\n",
              "      <td>0.261145</td>\n",
              "      <td>-0.143276</td>\n",
              "      <td>0.00</td>\n",
              "      <td>1</td>\n",
              "    </tr>\n",
              "    <tr>\n",
              "      <th>623</th>\n",
              "      <td>472.0</td>\n",
              "      <td>-3.043541</td>\n",
              "      <td>-3.157307</td>\n",
              "      <td>1.088463</td>\n",
              "      <td>2.288644</td>\n",
              "      <td>1.359805</td>\n",
              "      <td>-1.064823</td>\n",
              "      <td>0.325574</td>\n",
              "      <td>-0.067794</td>\n",
              "      <td>-0.270953</td>\n",
              "      <td>...</td>\n",
              "      <td>0.661696</td>\n",
              "      <td>0.435477</td>\n",
              "      <td>1.375966</td>\n",
              "      <td>-0.293803</td>\n",
              "      <td>0.279798</td>\n",
              "      <td>-0.145362</td>\n",
              "      <td>-0.252773</td>\n",
              "      <td>0.035764</td>\n",
              "      <td>529.00</td>\n",
              "      <td>1</td>\n",
              "    </tr>\n",
              "    <tr>\n",
              "      <th>4920</th>\n",
              "      <td>4462.0</td>\n",
              "      <td>-2.303350</td>\n",
              "      <td>1.759247</td>\n",
              "      <td>-0.359745</td>\n",
              "      <td>2.330243</td>\n",
              "      <td>-0.821628</td>\n",
              "      <td>-0.075788</td>\n",
              "      <td>0.562320</td>\n",
              "      <td>-0.399147</td>\n",
              "      <td>-0.238253</td>\n",
              "      <td>...</td>\n",
              "      <td>-0.294166</td>\n",
              "      <td>-0.932391</td>\n",
              "      <td>0.172726</td>\n",
              "      <td>-0.087330</td>\n",
              "      <td>-0.156114</td>\n",
              "      <td>-0.542628</td>\n",
              "      <td>0.039566</td>\n",
              "      <td>-0.153029</td>\n",
              "      <td>239.93</td>\n",
              "      <td>1</td>\n",
              "    </tr>\n",
              "    <tr>\n",
              "      <th>6108</th>\n",
              "      <td>6986.0</td>\n",
              "      <td>-4.397974</td>\n",
              "      <td>1.358367</td>\n",
              "      <td>-2.592844</td>\n",
              "      <td>2.679787</td>\n",
              "      <td>-1.128131</td>\n",
              "      <td>-1.706536</td>\n",
              "      <td>-3.496197</td>\n",
              "      <td>-0.248778</td>\n",
              "      <td>-0.247768</td>\n",
              "      <td>...</td>\n",
              "      <td>0.573574</td>\n",
              "      <td>0.176968</td>\n",
              "      <td>-0.436207</td>\n",
              "      <td>-0.053502</td>\n",
              "      <td>0.252405</td>\n",
              "      <td>-0.657488</td>\n",
              "      <td>-0.827136</td>\n",
              "      <td>0.849573</td>\n",
              "      <td>59.00</td>\n",
              "      <td>1</td>\n",
              "    </tr>\n",
              "    <tr>\n",
              "      <th>6329</th>\n",
              "      <td>7519.0</td>\n",
              "      <td>1.234235</td>\n",
              "      <td>3.019740</td>\n",
              "      <td>-4.304597</td>\n",
              "      <td>4.732795</td>\n",
              "      <td>3.624201</td>\n",
              "      <td>-1.357746</td>\n",
              "      <td>1.713445</td>\n",
              "      <td>-0.496358</td>\n",
              "      <td>-1.282858</td>\n",
              "      <td>...</td>\n",
              "      <td>-0.379068</td>\n",
              "      <td>-0.704181</td>\n",
              "      <td>-0.656805</td>\n",
              "      <td>-1.632653</td>\n",
              "      <td>1.488901</td>\n",
              "      <td>0.566797</td>\n",
              "      <td>-0.010016</td>\n",
              "      <td>0.146793</td>\n",
              "      <td>1.00</td>\n",
              "      <td>1</td>\n",
              "    </tr>\n",
              "  </tbody>\n",
              "</table>\n",
              "<p>5 rows × 31 columns</p>\n",
              "</div>\n",
              "      <button class=\"colab-df-convert\" onclick=\"convertToInteractive('df-e6db830e-1735-45a8-8bd1-882179a8268d')\"\n",
              "              title=\"Convert this dataframe to an interactive table.\"\n",
              "              style=\"display:none;\">\n",
              "        \n",
              "  <svg xmlns=\"http://www.w3.org/2000/svg\" height=\"24px\"viewBox=\"0 0 24 24\"\n",
              "       width=\"24px\">\n",
              "    <path d=\"M0 0h24v24H0V0z\" fill=\"none\"/>\n",
              "    <path d=\"M18.56 5.44l.94 2.06.94-2.06 2.06-.94-2.06-.94-.94-2.06-.94 2.06-2.06.94zm-11 1L8.5 8.5l.94-2.06 2.06-.94-2.06-.94L8.5 2.5l-.94 2.06-2.06.94zm10 10l.94 2.06.94-2.06 2.06-.94-2.06-.94-.94-2.06-.94 2.06-2.06.94z\"/><path d=\"M17.41 7.96l-1.37-1.37c-.4-.4-.92-.59-1.43-.59-.52 0-1.04.2-1.43.59L10.3 9.45l-7.72 7.72c-.78.78-.78 2.05 0 2.83L4 21.41c.39.39.9.59 1.41.59.51 0 1.02-.2 1.41-.59l7.78-7.78 2.81-2.81c.8-.78.8-2.07 0-2.86zM5.41 20L4 18.59l7.72-7.72 1.47 1.35L5.41 20z\"/>\n",
              "  </svg>\n",
              "      </button>\n",
              "      \n",
              "  <style>\n",
              "    .colab-df-container {\n",
              "      display:flex;\n",
              "      flex-wrap:wrap;\n",
              "      gap: 12px;\n",
              "    }\n",
              "\n",
              "    .colab-df-convert {\n",
              "      background-color: #E8F0FE;\n",
              "      border: none;\n",
              "      border-radius: 50%;\n",
              "      cursor: pointer;\n",
              "      display: none;\n",
              "      fill: #1967D2;\n",
              "      height: 32px;\n",
              "      padding: 0 0 0 0;\n",
              "      width: 32px;\n",
              "    }\n",
              "\n",
              "    .colab-df-convert:hover {\n",
              "      background-color: #E2EBFA;\n",
              "      box-shadow: 0px 1px 2px rgba(60, 64, 67, 0.3), 0px 1px 3px 1px rgba(60, 64, 67, 0.15);\n",
              "      fill: #174EA6;\n",
              "    }\n",
              "\n",
              "    [theme=dark] .colab-df-convert {\n",
              "      background-color: #3B4455;\n",
              "      fill: #D2E3FC;\n",
              "    }\n",
              "\n",
              "    [theme=dark] .colab-df-convert:hover {\n",
              "      background-color: #434B5C;\n",
              "      box-shadow: 0px 1px 3px 1px rgba(0, 0, 0, 0.15);\n",
              "      filter: drop-shadow(0px 1px 2px rgba(0, 0, 0, 0.3));\n",
              "      fill: #FFFFFF;\n",
              "    }\n",
              "  </style>\n",
              "\n",
              "      <script>\n",
              "        const buttonEl =\n",
              "          document.querySelector('#df-e6db830e-1735-45a8-8bd1-882179a8268d button.colab-df-convert');\n",
              "        buttonEl.style.display =\n",
              "          google.colab.kernel.accessAllowed ? 'block' : 'none';\n",
              "\n",
              "        async function convertToInteractive(key) {\n",
              "          const element = document.querySelector('#df-e6db830e-1735-45a8-8bd1-882179a8268d');\n",
              "          const dataTable =\n",
              "            await google.colab.kernel.invokeFunction('convertToInteractive',\n",
              "                                                     [key], {});\n",
              "          if (!dataTable) return;\n",
              "\n",
              "          const docLinkHtml = 'Like what you see? Visit the ' +\n",
              "            '<a target=\"_blank\" href=https://colab.research.google.com/notebooks/data_table.ipynb>data table notebook</a>'\n",
              "            + ' to learn more about interactive tables.';\n",
              "          element.innerHTML = '';\n",
              "          dataTable['output_type'] = 'display_data';\n",
              "          await google.colab.output.renderOutput(dataTable, element);\n",
              "          const docLink = document.createElement('div');\n",
              "          docLink.innerHTML = docLinkHtml;\n",
              "          element.appendChild(docLink);\n",
              "        }\n",
              "      </script>\n",
              "    </div>\n",
              "  </div>\n",
              "  "
            ]
          },
          "metadata": {},
          "execution_count": 9
        }
      ]
    },
    {
      "cell_type": "code",
      "source": [
        "df.info()"
      ],
      "metadata": {
        "colab": {
          "base_uri": "https://localhost:8080/"
        },
        "id": "uzelH6PQBWZO",
        "outputId": "7afffab7-ba5f-4066-b2b3-2aa4a1f257b8"
      },
      "execution_count": null,
      "outputs": [
        {
          "output_type": "stream",
          "name": "stdout",
          "text": [
            "<class 'pandas.core.frame.DataFrame'>\n",
            "RangeIndex: 284807 entries, 0 to 284806\n",
            "Data columns (total 31 columns):\n",
            " #   Column  Non-Null Count   Dtype  \n",
            "---  ------  --------------   -----  \n",
            " 0   Time    284807 non-null  float64\n",
            " 1   V1      284807 non-null  float64\n",
            " 2   V2      284807 non-null  float64\n",
            " 3   V3      284807 non-null  float64\n",
            " 4   V4      284807 non-null  float64\n",
            " 5   V5      284807 non-null  float64\n",
            " 6   V6      284807 non-null  float64\n",
            " 7   V7      284807 non-null  float64\n",
            " 8   V8      284807 non-null  float64\n",
            " 9   V9      284807 non-null  float64\n",
            " 10  V10     284807 non-null  float64\n",
            " 11  V11     284807 non-null  float64\n",
            " 12  V12     284807 non-null  float64\n",
            " 13  V13     284807 non-null  float64\n",
            " 14  V14     284807 non-null  float64\n",
            " 15  V15     284807 non-null  float64\n",
            " 16  V16     284807 non-null  float64\n",
            " 17  V17     284807 non-null  float64\n",
            " 18  V18     284807 non-null  float64\n",
            " 19  V19     284807 non-null  float64\n",
            " 20  V20     284807 non-null  float64\n",
            " 21  V21     284807 non-null  float64\n",
            " 22  V22     284807 non-null  float64\n",
            " 23  V23     284807 non-null  float64\n",
            " 24  V24     284807 non-null  float64\n",
            " 25  V25     284807 non-null  float64\n",
            " 26  V26     284807 non-null  float64\n",
            " 27  V27     284807 non-null  float64\n",
            " 28  V28     284807 non-null  float64\n",
            " 29  Amount  284807 non-null  float64\n",
            " 30  Fraud   284807 non-null  int64  \n",
            "dtypes: float64(30), int64(1)\n",
            "memory usage: 67.4 MB\n"
          ]
        }
      ]
    },
    {
      "cell_type": "code",
      "source": [
        "# Determine number of fraud cases in dataset\n",
        "fraud = df[df['Fraud'] == 1]\n",
        "valid = df[df['Fraud'] == 0]\n",
        "outlierFraction = len(fraud)/float(len(valid))\n",
        "print(outlierFraction)\n",
        "print('Fraud Cases: {}'.format(len(df[df['Fraud'] == 1])))\n",
        "print('Valid Transactions: {}'.format(len(df[df['Fraud'] == 0])))\n",
        "\n",
        "print('Amount details of the fraudulent transaction')\n",
        "fraud.Amount.describe()"
      ],
      "metadata": {
        "colab": {
          "base_uri": "https://localhost:8080/"
        },
        "id": "-gwG0fYyBepX",
        "outputId": "dda6710f-1e9a-4a00-b8d6-abc88a5ad16d"
      },
      "execution_count": 10,
      "outputs": [
        {
          "output_type": "stream",
          "name": "stdout",
          "text": [
            "0.0017304750013189597\n",
            "Fraud Cases: 492\n",
            "Valid Transactions: 284315\n",
            "Amount details of the fraudulent transaction\n"
          ]
        },
        {
          "output_type": "execute_result",
          "data": {
            "text/plain": [
              "count     492.000000\n",
              "mean      122.211321\n",
              "std       256.683288\n",
              "min         0.000000\n",
              "25%         1.000000\n",
              "50%         9.250000\n",
              "75%       105.890000\n",
              "max      2125.870000\n",
              "Name: Amount, dtype: float64"
            ]
          },
          "metadata": {},
          "execution_count": 10
        }
      ]
    },
    {
      "cell_type": "code",
      "source": [
        "print(\"Skewness: %f\" %df['Amount'].skew())\n",
        "print(\"Kurtosis: %f\" %df['Amount'].kurt())"
      ],
      "metadata": {
        "colab": {
          "base_uri": "https://localhost:8080/"
        },
        "id": "DMV1KbSpBenP",
        "outputId": "52ea9d69-21fd-4f61-cbd6-0ad4b59edbdd"
      },
      "execution_count": null,
      "outputs": [
        {
          "output_type": "stream",
          "name": "stdout",
          "text": [
            "Skewness: 16.977724\n",
            "Kurtosis: 845.092646\n"
          ]
        }
      ]
    },
    {
      "cell_type": "code",
      "source": [
        "# Correlation matrix\n",
        "corrmat = df.corr()\n",
        "fig = plt.figure(figsize = (12, 9))\n",
        "sns.heatmap(corrmat, vmax = .8, square = True)\n",
        "plt.show()"
      ],
      "metadata": {
        "colab": {
          "base_uri": "https://localhost:8080/",
          "height": 570
        },
        "id": "dd4iNkvVBoBV",
        "outputId": "c7cdcfb9-3f24-42a0-9a86-706a6ed25cab"
      },
      "execution_count": null,
      "outputs": [
        {
          "output_type": "display_data",
          "data": {
            "text/plain": [
              "<Figure size 864x648 with 2 Axes>"
            ],
            "image/png": "[encoded data removed]"
          },
          "metadata": {
            "needs_background": "light"
          }
        }
      ]
    },
    {
      "cell_type": "code",
      "source": [
        "sns.set(rc={'figure.figsize':(25,5)})\n",
        "df['Fraud'] = df['Fraud'].astype(str)\n",
        "sns.boxplot(data = df, x = \"Amount\", y = \"Fraud\", showfliers = True)\n",
        "#sns.boxplot(data = fraud, x = \"Amount\", showfliers = False)\n",
        "\n",
        "#sns.boxplot(fraud[\"Amount\"], x = \"Amount\", showfliers = False)\n",
        "\n",
        "#sns.boxplot(data=df[[\"Amount\"]], x=\"Amount\", hue=\"Class\")"
      ],
      "metadata": {
        "colab": {
          "base_uri": "https://localhost:8080/",
          "height": 265
        },
        "id": "xFkGg2KqBrgP",
        "outputId": "963cba63-71ee-4bf0-860e-8b93b752758c"
      },
      "execution_count": null,
      "outputs": [
        {
          "output_type": "execute_result",
          "data": {
            "text/plain": [
              "<matplotlib.axes._subplots.AxesSubplot at 0x7f45f3686a50>"
            ]
          },
          "metadata": {},
          "execution_count": 15
        },
        {
          "output_type": "display_data",
          "data": {
            "text/plain": [
              "<Figure size 1800x360 with 1 Axes>"
            ],
            "image/png": "[encoded data removed]"
          },
          "metadata": {}
        }
      ]
    },
    {
      "cell_type": "code",
      "source": [
        "from sklearn.preprocessing import StandardScaler"
      ],
      "metadata": {
        "id": "7LgCbd04BxKO"
      },
      "execution_count": 11,
      "outputs": []
    },
    {
      "cell_type": "markdown",
      "source": [
        "## Training Model"
      ],
      "metadata": {
        "id": "Wx_bN_ZwB_vi"
      }
    },
    {
      "cell_type": "code",
      "source": [
        "df['Fraud'] = df['Fraud'].astype(int)\n",
        "\n",
        "X = df.drop(['Fraud'], axis = 1)\n",
        "Y = df[\"Fraud\"]\n",
        "\n",
        "xData = X.values\n",
        "yData = Y.values"
      ],
      "metadata": {
        "id": "zYfGU1ozB-wx"
      },
      "execution_count": 6,
      "outputs": []
    },
    {
      "cell_type": "markdown",
      "source": [
        "## Establish pipeline"
      ],
      "metadata": {
        "id": "68oMRoT2CZQl"
      }
    },
    {
      "cell_type": "code",
      "source": [
        "xTrain, xTest, yTrain, yTest = train_test_split(\n",
        "        xData, yData, test_size = 0.2, random_state = 42)\n",
        "\n",
        "pipe = Pipeline([('standardScaler', StandardScaler()), ('quantiletransformer', QuantileTransformer()), ('svc', SVC())])"
      ],
      "metadata": {
        "id": "BLqlYIWtCGVI"
      },
      "execution_count": 12,
      "outputs": []
    },
    {
      "cell_type": "code",
      "source": [
        "xTrain.shape, xTest.shape, yTrain.shape, yTest.shape \n",
        "#NumPy arrays have an attribute called shape that returns a tuple with each index having the number of corresponding elements.\n"
      ],
      "metadata": {
        "colab": {
          "base_uri": "https://localhost:8080/"
        },
        "id": "txlp55-6CeSc",
        "outputId": "7b317d2d-52a6-48ef-a132-d1470458cfbd"
      },
      "execution_count": 13,
      "outputs": [
        {
          "output_type": "execute_result",
          "data": {
            "text/plain": [
              "((227845, 30), (56962, 30), (227845,), (56962,))"
            ]
          },
          "metadata": {},
          "execution_count": 13
        }
      ]
    },
    {
      "cell_type": "code",
      "source": [
        "cv = ShuffleSplit(n_splits=5, test_size=0.3, random_state=0)\n",
        "scores = (cross_val_score(pipe, xTrain, yTrain, cv=cv))\n",
        "#Random permutation cross-validator\n"
      ],
      "metadata": {
        "id": "t7tdmmQqDBnx"
      },
      "execution_count": 14,
      "outputs": []
    },
    {
      "cell_type": "code",
      "source": [
        "from sklearn.model_selection import GridSearchCV\n",
        "\n",
        "param_grid_pspp = [{\n",
        "    'svc__C': [1.0, 2.0, 4.0]\n",
        "    kernel{‘linear’, ‘poly’, ‘rbf’, ‘sigmoid’, ‘precomputed’} or callable, default=’rbf’}\n",
        "}]\n",
        "\n",
        "grid_search_pspp = GridSearchCV(pipe, param_grid_pspp, cv=5,\n",
        "                                scoring= 'recall', verbose=2, n_jobs=-1)\n",
        "grid_search_pspp.fit(xTrain, yTrain)"
      ],
      "metadata": {
        "id": "FyWxXP0IC7w4",
        "colab": {
          "base_uri": "https://localhost:8080/"
        },
        "outputId": "403b69d0-09dc-431c-ec8e-6523ca736f50"
      },
      "execution_count": null,
      "outputs": [
        {
          "output_type": "stream",
          "name": "stdout",
          "text": [
            "Fitting 5 folds for each of 3 candidates, totalling 15 fits\n"
          ]
        },
        {
          "output_type": "execute_result",
          "data": {
            "text/plain": [
              "GridSearchCV(cv=5,\n",
              "             estimator=Pipeline(steps=[('standardScaler', StandardScaler()),\n",
              "                                       ('quantiletransformer',\n",
              "                                        QuantileTransformer()),\n",
              "                                       ('svc', SVC())]),\n",
              "             n_jobs=-1, param_grid=[{'svc__C': [1.0, 2.0, 4.0]}],\n",
              "             scoring='accuracy', verbose=2)"
            ]
          },
          "metadata": {},
          "execution_count": 25
        }
      ]
    },
    {
      "cell_type": "code",
      "source": [
        "dir(grid_search_pspp)"
      ],
      "metadata": {
        "colab": {
          "base_uri": "https://localhost:8080/"
        },
        "id": "7LVzUvIiEFfR",
        "outputId": "d25ad85b-9054-40ac-9d90-84108588cfe9"
      },
      "execution_count": null,
      "outputs": [
        {
          "output_type": "execute_result",
          "data": {
            "text/plain": [
              "['__abstractmethods__',\n",
              " '__class__',\n",
              " '__delattr__',\n",
              " '__dict__',\n",
              " '__dir__',\n",
              " '__doc__',\n",
              " '__eq__',\n",
              " '__format__',\n",
              " '__ge__',\n",
              " '__getattribute__',\n",
              " '__getstate__',\n",
              " '__gt__',\n",
              " '__hash__',\n",
              " '__init__',\n",
              " '__init_subclass__',\n",
              " '__le__',\n",
              " '__lt__',\n",
              " '__module__',\n",
              " '__ne__',\n",
              " '__new__',\n",
              " '__reduce__',\n",
              " '__reduce_ex__',\n",
              " '__repr__',\n",
              " '__setattr__',\n",
              " '__setstate__',\n",
              " '__sizeof__',\n",
              " '__str__',\n",
              " '__subclasshook__',\n",
              " '__weakref__',\n",
              " '_abc_impl',\n",
              " '_check_feature_names',\n",
              " '_check_n_features',\n",
              " '_check_refit_for_multimetric',\n",
              " '_estimator_type',\n",
              " '_format_results',\n",
              " '_get_param_names',\n",
              " '_get_tags',\n",
              " '_more_tags',\n",
              " '_pairwise',\n",
              " '_repr_html_',\n",
              " '_repr_html_inner',\n",
              " '_repr_mimebundle_',\n",
              " '_required_parameters',\n",
              " '_run_search',\n",
              " '_select_best_index',\n",
              " '_validate_data',\n",
              " 'best_estimator_',\n",
              " 'best_index_',\n",
              " 'best_params_',\n",
              " 'best_score_',\n",
              " 'classes_',\n",
              " 'cv',\n",
              " 'cv_results_',\n",
              " 'decision_function',\n",
              " 'error_score',\n",
              " 'estimator',\n",
              " 'fit',\n",
              " 'get_params',\n",
              " 'inverse_transform',\n",
              " 'multimetric_',\n",
              " 'n_features_in_',\n",
              " 'n_jobs',\n",
              " 'n_splits_',\n",
              " 'param_grid',\n",
              " 'pre_dispatch',\n",
              " 'predict',\n",
              " 'predict_log_proba',\n",
              " 'predict_proba',\n",
              " 'refit',\n",
              " 'refit_time_',\n",
              " 'return_train_score',\n",
              " 'score',\n",
              " 'score_samples',\n",
              " 'scorer_',\n",
              " 'scoring',\n",
              " 'set_params',\n",
              " 'transform',\n",
              " 'verbose']"
            ]
          },
          "metadata": {},
          "execution_count": 26
        }
      ]
    },
    {
      "cell_type": "code",
      "source": [
        "grid_search_pspp.cv_results_"
      ],
      "metadata": {
        "id": "BxLaJ_21EIzA",
        "colab": {
          "base_uri": "https://localhost:8080/"
        },
        "outputId": "56cb81e4-773b-453e-c097-c84d93ea31d6"
      },
      "execution_count": null,
      "outputs": [
        {
          "output_type": "execute_result",
          "data": {
            "text/plain": [
              "{'mean_fit_time': array([68.46996093, 66.60829716, 62.52179394]),\n",
              " 'std_fit_time': array([2.98548352, 3.05486197, 7.86428137]),\n",
              " 'mean_score_time': array([7.61023192, 7.41500444, 6.61845961]),\n",
              " 'std_score_time': array([0.23736554, 0.2563749 , 0.9354621 ]),\n",
              " 'param_svc__C': masked_array(data=[1.0, 2.0, 4.0],\n",
              "              mask=[False, False, False],\n",
              "        fill_value='?',\n",
              "             dtype=object),\n",
              " 'params': [{'svc__C': 1.0}, {'svc__C': 2.0}, {'svc__C': 4.0}],\n",
              " 'split0_test_score': array([0.99938555, 0.99949527, 0.99951722]),\n",
              " 'split1_test_score': array([0.9993636 , 0.99931971, 0.99942944]),\n",
              " 'split2_test_score': array([0.99938555, 0.99945138, 0.99947333]),\n",
              " 'split3_test_score': array([0.99938555, 0.99949527, 0.99949527]),\n",
              " 'split4_test_score': array([0.99940749, 0.99942944, 0.99960499]),\n",
              " 'mean_test_score': array([0.99938555, 0.99943821, 0.99950405]),\n",
              " 'std_test_score': array([1.38790742e-05, 6.45041079e-05, 5.82259833e-05]),\n",
              " 'rank_test_score': array([3, 2, 1], dtype=int32)}"
            ]
          },
          "metadata": {},
          "execution_count": 27
        }
      ]
    },
    {
      "cell_type": "code",
      "source": [
        "pprint(grid_search_pspp.best_estimator_)"
      ],
      "metadata": {
        "id": "lw9YWmqmE1WP",
        "colab": {
          "base_uri": "https://localhost:8080/"
        },
        "outputId": "a610c6a3-9776-4767-e5d7-e9dbef2dfba7"
      },
      "execution_count": null,
      "outputs": [
        {
          "output_type": "stream",
          "name": "stdout",
          "text": [
            "Pipeline(steps=[('standardScaler', StandardScaler()),\n",
            "                ('quantiletransformer', QuantileTransformer()),\n",
            "                ('svc', SVC(C=4.0))])\n"
          ]
        }
      ]
    },
    {
      "cell_type": "code",
      "source": [
        "#data for pipe\n",
        "print(\"%0.9f recall with a standard deviation of %0.9f\" % (scores.mean(), scores.std()))"
      ],
      "metadata": {
        "id": "x3M226GyE2rY",
        "colab": {
          "base_uri": "https://localhost:8080/"
        },
        "outputId": "618353cd-1edc-49c0-ee10-3eafbab510d6"
      },
      "execution_count": null,
      "outputs": [
        {
          "output_type": "stream",
          "name": "stdout",
          "text": [
            "0.999429441 accuracy with a standard deviation of 0.000051517\n"
          ]
        }
      ]
    },
    {
      "cell_type": "code",
      "source": [
        "#data for pipe1 was too lazy to do the cross validation again\n",
        "print(\"%0.9f recall with a standard deviation of %0.9f\" % (scores.mean(), scores.std()))"
      ],
      "metadata": {
        "id": "JOeP2hCnE41r",
        "colab": {
          "base_uri": "https://localhost:8080/"
        },
        "outputId": "a1a8caad-4ae8-42a8-da88-0774716c8025"
      },
      "execution_count": null,
      "outputs": [
        {
          "output_type": "stream",
          "name": "stdout",
          "text": [
            "0.999429441 accuracy with a standard deviation of 0.000051517\n"
          ]
        }
      ]
    },
    {
      "cell_type": "code",
      "source": [
        "from sklearn.model_selection import GridSearchCV\n",
        "\n",
        "param_grid_pspp = [{\n",
        "    'svc__C': [1.0, 2.0, 4.0],\n",
        "    'svc__kernel': [\"linear\", \"poly\", \"rbf\", \"sigmoid\"]\n",
        "}]\n",
        "\n",
        "grid_search_pspp = GridSearchCV(pipe, param_grid_pspp, cv=5,\n",
        "                                scoring= 'recall', verbose=2, n_jobs=-1)\n",
        "grid_search_pspp.fit(xTrain, yTrain)"
      ],
      "metadata": {
        "colab": {
          "base_uri": "https://localhost:8080/"
        },
        "id": "fCoMdZU_PpXR",
        "outputId": "afbb6a88-74a7-443e-979d-9e4efb97c951"
      },
      "execution_count": null,
      "outputs": [
        {
          "output_type": "stream",
          "name": "stdout",
          "text": [
            "Fitting 5 folds for each of 12 candidates, totalling 60 fits\n"
          ]
        },
        {
          "output_type": "execute_result",
          "data": {
            "text/plain": [
              "GridSearchCV(cv=5,\n",
              "             estimator=Pipeline(steps=[('standardScaler', StandardScaler()),\n",
              "                                       ('quantiletransformer',\n",
              "                                        QuantileTransformer()),\n",
              "                                       ('svc', SVC())]),\n",
              "             n_jobs=-1,\n",
              "             param_grid=[{'svc__C': [1.0, 2.0, 4.0],\n",
              "                          'svc__kernel': ['linear', 'poly', 'rbf', 'sigmoid']}],\n",
              "             scoring='accuracy', verbose=2)"
            ]
          },
          "metadata": {},
          "execution_count": 37
        }
      ]
    },
    {
      "cell_type": "code",
      "source": [
        "dir(grid_search_pspp)"
      ],
      "metadata": {
        "colab": {
          "base_uri": "https://localhost:8080/"
        },
        "id": "nWzXMl1uiILY",
        "outputId": "aea3ebb3-3571-4915-86bc-c8e58d104274"
      },
      "execution_count": null,
      "outputs": [
        {
          "output_type": "execute_result",
          "data": {
            "text/plain": [
              "['__abstractmethods__',\n",
              " '__class__',\n",
              " '__delattr__',\n",
              " '__dict__',\n",
              " '__dir__',\n",
              " '__doc__',\n",
              " '__eq__',\n",
              " '__format__',\n",
              " '__ge__',\n",
              " '__getattribute__',\n",
              " '__getstate__',\n",
              " '__gt__',\n",
              " '__hash__',\n",
              " '__init__',\n",
              " '__init_subclass__',\n",
              " '__le__',\n",
              " '__lt__',\n",
              " '__module__',\n",
              " '__ne__',\n",
              " '__new__',\n",
              " '__reduce__',\n",
              " '__reduce_ex__',\n",
              " '__repr__',\n",
              " '__setattr__',\n",
              " '__setstate__',\n",
              " '__sizeof__',\n",
              " '__str__',\n",
              " '__subclasshook__',\n",
              " '__weakref__',\n",
              " '_abc_impl',\n",
              " '_check_feature_names',\n",
              " '_check_n_features',\n",
              " '_check_refit_for_multimetric',\n",
              " '_estimator_type',\n",
              " '_format_results',\n",
              " '_get_param_names',\n",
              " '_get_tags',\n",
              " '_more_tags',\n",
              " '_pairwise',\n",
              " '_repr_html_',\n",
              " '_repr_html_inner',\n",
              " '_repr_mimebundle_',\n",
              " '_required_parameters',\n",
              " '_run_search',\n",
              " '_select_best_index',\n",
              " '_validate_data',\n",
              " 'best_estimator_',\n",
              " 'best_index_',\n",
              " 'best_params_',\n",
              " 'best_score_',\n",
              " 'classes_',\n",
              " 'cv',\n",
              " 'cv_results_',\n",
              " 'decision_function',\n",
              " 'error_score',\n",
              " 'estimator',\n",
              " 'fit',\n",
              " 'get_params',\n",
              " 'inverse_transform',\n",
              " 'multimetric_',\n",
              " 'n_features_in_',\n",
              " 'n_jobs',\n",
              " 'n_splits_',\n",
              " 'param_grid',\n",
              " 'pre_dispatch',\n",
              " 'predict',\n",
              " 'predict_log_proba',\n",
              " 'predict_proba',\n",
              " 'refit',\n",
              " 'refit_time_',\n",
              " 'return_train_score',\n",
              " 'score',\n",
              " 'score_samples',\n",
              " 'scorer_',\n",
              " 'scoring',\n",
              " 'set_params',\n",
              " 'transform',\n",
              " 'verbose']"
            ]
          },
          "metadata": {},
          "execution_count": 38
        }
      ]
    },
    {
      "cell_type": "code",
      "source": [
        "pprint(grid_search_pspp.cv_results_)"
      ],
      "metadata": {
        "colab": {
          "base_uri": "https://localhost:8080/"
        },
        "id": "IY4ozs2WiKdL",
        "outputId": "f812ba2e-cbff-4088-d745-8d7f5601af23"
      },
      "execution_count": null,
      "outputs": [
        {
          "output_type": "stream",
          "name": "stdout",
          "text": [
            "{'mean_fit_time': array([13.94752588, 53.56336532, 73.63170033, 21.29242043, 15.86471505,\n",
            "       67.59862475, 71.54141326, 18.83345442, 22.1327415 , 74.26491241,\n",
            "       71.64968977, 15.68226337]),\n",
            " 'mean_score_time': array([1.35515289, 2.36057911, 7.45056038, 3.33108549, 1.58656468,\n",
            "       2.75577283, 7.35079436, 3.27405205, 1.60465107, 2.38891578,\n",
            "       7.00362029, 3.07764931]),\n",
            " 'mean_test_score': array([0.9993636 , 0.99941188, 0.99938994, 0.99837609, 0.9993636 ,\n",
            "       0.99939433, 0.99943821, 0.99830148, 0.9993636 , 0.99935921,\n",
            "       0.99950405, 0.99836731]),\n",
            " 'param_svc__C': masked_array(data=[1.0, 1.0, 1.0, 1.0, 2.0, 2.0, 2.0, 2.0, 4.0, 4.0, 4.0,\n",
            "                   4.0],\n",
            "             mask=[False, False, False, False, False, False, False, False,\n",
            "                   False, False, False, False],\n",
            "       fill_value='?',\n",
            "            dtype=object),\n",
            " 'param_svc__kernel': masked_array(data=['linear', 'poly', 'rbf', 'sigmoid', 'linear', 'poly',\n",
            "                   'rbf', 'sigmoid', 'linear', 'poly', 'rbf', 'sigmoid'],\n",
            "             mask=[False, False, False, False, False, False, False, False,\n",
            "                   False, False, False, False],\n",
            "       fill_value='?',\n",
            "            dtype=object),\n",
            " 'params': [{'svc__C': 1.0, 'svc__kernel': 'linear'},\n",
            "            {'svc__C': 1.0, 'svc__kernel': 'poly'},\n",
            "            {'svc__C': 1.0, 'svc__kernel': 'rbf'},\n",
            "            {'svc__C': 1.0, 'svc__kernel': 'sigmoid'},\n",
            "            {'svc__C': 2.0, 'svc__kernel': 'linear'},\n",
            "            {'svc__C': 2.0, 'svc__kernel': 'poly'},\n",
            "            {'svc__C': 2.0, 'svc__kernel': 'rbf'},\n",
            "            {'svc__C': 2.0, 'svc__kernel': 'sigmoid'},\n",
            "            {'svc__C': 4.0, 'svc__kernel': 'linear'},\n",
            "            {'svc__C': 4.0, 'svc__kernel': 'poly'},\n",
            "            {'svc__C': 4.0, 'svc__kernel': 'rbf'},\n",
            "            {'svc__C': 4.0, 'svc__kernel': 'sigmoid'}],\n",
            " 'rank_test_score': array([ 6,  3,  5, 10,  6,  4,  2, 12,  6,  9,  1, 11], dtype=int32),\n",
            " 'split0_test_score': array([0.99938555, 0.99942944, 0.99938555, 0.99874915, 0.99938555,\n",
            "       0.99934166, 0.99949527, 0.99863943, 0.99938555, 0.99918804,\n",
            "       0.99951722, 0.99855165]),\n",
            " 'split1_test_score': array([0.99934166, 0.99927582, 0.9993636 , 0.99866137, 0.99934166,\n",
            "       0.99923193, 0.99931971, 0.99846387, 0.99934166, 0.99918804,\n",
            "       0.99942944, 0.99879304]),\n",
            " 'split2_test_score': array([0.99931971, 0.99940749, 0.99938555, 0.99798108, 0.99931971,\n",
            "       0.99947333, 0.99945138, 0.99776164, 0.99931971, 0.99947333,\n",
            "       0.99947333, 0.99809081]),\n",
            " 'split3_test_score': array([0.99940749, 0.99940749, 0.99940749, 0.99828831, 0.99940749,\n",
            "       0.99938555, 0.99949527, 0.99846387, 0.99940749, 0.99940749,\n",
            "       0.99949527, 0.99831025]),\n",
            " 'split4_test_score': array([0.9993636 , 0.99953916, 0.99940749, 0.99820053, 0.9993636 ,\n",
            "       0.99953916, 0.99942944, 0.99817859, 0.9993636 , 0.99953916,\n",
            "       0.99960499, 0.99809081]),\n",
            " 'std_fit_time': array([ 1.40304333,  3.46018602,  1.58790279,  2.55821916,  0.81315527,\n",
            "       12.40922975,  2.32112403,  1.5499206 ,  1.75744708, 10.10658994,\n",
            "        2.16209113,  1.58754058]),\n",
            " 'std_score_time': array([0.03218288, 0.10524545, 0.19974102, 0.57072845, 0.39299427,\n",
            "       0.88802696, 0.25046979, 1.05034206, 0.50270286, 0.08583643,\n",
            "       0.20847265, 1.12805755]),\n",
            " 'std_test_score': array([3.10345534e-05, 8.37358030e-05, 1.64219421e-05, 2.88137068e-04,\n",
            "       3.10345534e-05, 1.06245197e-04, 6.45041079e-05, 3.07727589e-04,\n",
            "       3.10345534e-05, 1.45829382e-04, 5.82259833e-05, 2.72539221e-04])}\n"
          ]
        }
      ]
    },
    {
      "cell_type": "code",
      "source": [
        "pprint(grid_search_pspp.best_estimator_)"
      ],
      "metadata": {
        "colab": {
          "base_uri": "https://localhost:8080/"
        },
        "id": "H6RA7mI0iM33",
        "outputId": "f9de2701-89d9-442a-dc5c-da5df5125bd2"
      },
      "execution_count": null,
      "outputs": [
        {
          "output_type": "stream",
          "name": "stdout",
          "text": [
            "Pipeline(steps=[('standardScaler', StandardScaler()),\n",
            "                ('quantiletransformer', QuantileTransformer()),\n",
            "                ('svc', SVC(C=4.0))])\n"
          ]
        }
      ]
    },
    {
      "cell_type": "code",
      "source": [
        "#data for pipe\n",
        "print(\"%0.9f recall with a standard deviation of %0.9f\" % (scores.mean(), scores.std()))"
      ],
      "metadata": {
        "colab": {
          "base_uri": "https://localhost:8080/"
        },
        "id": "SfNV9TL0iQh-",
        "outputId": "ff938792-3868-4f90-c12b-a9a02932c772"
      },
      "execution_count": null,
      "outputs": [
        {
          "output_type": "stream",
          "name": "stdout",
          "text": [
            "0.999429441 accuracy with a standard deviation of 0.000051517\n"
          ]
        }
      ]
    },
    {
      "cell_type": "code",
      "source": [
        "#data for pipe1 was too lazy to do the cross validation again\n",
        "print(\"%0.9f recall with a standard deviation of %0.9f\" % (scores.mean(), scores.std()))"
      ],
      "metadata": {
        "colab": {
          "base_uri": "https://localhost:8080/"
        },
        "id": "YyjG3WmYiTxA",
        "outputId": "b2b56a61-f348-4cb0-e3e6-1bee347cc76c"
      },
      "execution_count": null,
      "outputs": [
        {
          "output_type": "stream",
          "name": "stdout",
          "text": [
            "0.999429441 accuracy with a standard deviation of 0.000051517\n"
          ]
        }
      ]
    },
    {
      "cell_type": "code",
      "source": [
        "from sklearn.model_selection import GridSearchCV\n",
        "\n",
        "param_grid_pspp = [{\n",
        "    'svc__C': [0.01, 0.1, 1.0, 10.0, 100.0],\n",
        "    'svc__kernel': [\"linear\", \"poly\", \"rbf\", \"sigmoid\"]\n",
        "}]\n",
        "\n",
        "grid_search_pspp = GridSearchCV(pipe, param_grid_pspp, cv=5,\n",
        "                                scoring= 'recall', verbose=2, n_jobs=-1)\n",
        "grid_search_pspp.fit(xTrain, yTrain)"
      ],
      "metadata": {
        "colab": {
          "base_uri": "https://localhost:8080/"
        },
        "id": "mVZy9w3hi4Se",
        "outputId": "7c224110-ea6c-444d-fda8-74bcb598b0dc"
      },
      "execution_count": 15,
      "outputs": [
        {
          "output_type": "stream",
          "name": "stdout",
          "text": [
            "Fitting 5 folds for each of 20 candidates, totalling 100 fits\n"
          ]
        },
        {
          "output_type": "execute_result",
          "data": {
            "text/plain": [
              "GridSearchCV(cv=5,\n",
              "             estimator=Pipeline(steps=[('standardScaler', StandardScaler()),\n",
              "                                       ('quantiletransformer',\n",
              "                                        QuantileTransformer()),\n",
              "                                       ('svc', SVC())]),\n",
              "             n_jobs=-1,\n",
              "             param_grid=[{'svc__C': [0.01, 0.1, 1.0, 10.0, 100.0],\n",
              "                          'svc__kernel': ['linear', 'poly', 'rbf', 'sigmoid']}],\n",
              "             scoring='recall', verbose=2)"
            ]
          },
          "metadata": {},
          "execution_count": 15
        }
      ]
    },
    {
      "cell_type": "code",
      "source": [
        "pprint(grid_search_pspp.cv_results_)"
      ],
      "metadata": {
        "colab": {
          "base_uri": "https://localhost:8080/"
        },
        "id": "ToGsQBjov81q",
        "outputId": "0297d25e-a864-4aea-85bb-58c1865e85de"
      },
      "execution_count": 16,
      "outputs": [
        {
          "output_type": "stream",
          "name": "stdout",
          "text": [
            "{'mean_fit_time': array([ 17.35453649,  12.31869178,  30.42124658,  28.39508214,\n",
            "        12.04103069,  30.95407715,  49.31476583,  31.06997266,\n",
            "        13.43551588,  57.69935546,  76.61120701,  20.5600225 ,\n",
            "        42.64459295,  81.84566307,  70.1414011 ,  15.92788711,\n",
            "       319.24278646,  85.6855505 ,  57.44950929,  13.67544427]),\n",
            " 'mean_score_time': array([2.44314737, 1.94538617, 6.68696032, 4.308039  , 1.51077337,\n",
            "       2.80095434, 6.89732471, 4.33263865, 1.64228902, 3.03005977,\n",
            "       8.34272647, 3.28951941, 1.42415199, 2.57556667, 7.22934737,\n",
            "       2.6054842 , 1.726226  , 2.63493457, 5.80939651, 2.29140997]),\n",
            " 'mean_test_score': array([0.75144434, 0.78945148, 0.        , 0.        , 0.78438819,\n",
            "       0.78691983, 0.72862707, 0.0101915 , 0.78438819, 0.74888023,\n",
            "       0.78185654, 0.37095099, 0.78438819, 0.74888023, 0.76916586,\n",
            "       0.47731256, 0.78438819, 0.73102889, 0.75384615, 0.47990912]),\n",
            " 'param_svc__C': masked_array(data=[0.01, 0.01, 0.01, 0.01, 0.1, 0.1, 0.1, 0.1, 1.0, 1.0,\n",
            "                   1.0, 1.0, 10.0, 10.0, 10.0, 10.0, 100.0, 100.0, 100.0,\n",
            "                   100.0],\n",
            "             mask=[False, False, False, False, False, False, False, False,\n",
            "                   False, False, False, False, False, False, False, False,\n",
            "                   False, False, False, False],\n",
            "       fill_value='?',\n",
            "            dtype=object),\n",
            " 'param_svc__kernel': masked_array(data=['linear', 'poly', 'rbf', 'sigmoid', 'linear', 'poly',\n",
            "                   'rbf', 'sigmoid', 'linear', 'poly', 'rbf', 'sigmoid',\n",
            "                   'linear', 'poly', 'rbf', 'sigmoid', 'linear', 'poly',\n",
            "                   'rbf', 'sigmoid'],\n",
            "             mask=[False, False, False, False, False, False, False, False,\n",
            "                   False, False, False, False, False, False, False, False,\n",
            "                   False, False, False, False],\n",
            "       fill_value='?',\n",
            "            dtype=object),\n",
            " 'params': [{'svc__C': 0.01, 'svc__kernel': 'linear'},\n",
            "            {'svc__C': 0.01, 'svc__kernel': 'poly'},\n",
            "            {'svc__C': 0.01, 'svc__kernel': 'rbf'},\n",
            "            {'svc__C': 0.01, 'svc__kernel': 'sigmoid'},\n",
            "            {'svc__C': 0.1, 'svc__kernel': 'linear'},\n",
            "            {'svc__C': 0.1, 'svc__kernel': 'poly'},\n",
            "            {'svc__C': 0.1, 'svc__kernel': 'rbf'},\n",
            "            {'svc__C': 0.1, 'svc__kernel': 'sigmoid'},\n",
            "            {'svc__C': 1.0, 'svc__kernel': 'linear'},\n",
            "            {'svc__C': 1.0, 'svc__kernel': 'poly'},\n",
            "            {'svc__C': 1.0, 'svc__kernel': 'rbf'},\n",
            "            {'svc__C': 1.0, 'svc__kernel': 'sigmoid'},\n",
            "            {'svc__C': 10.0, 'svc__kernel': 'linear'},\n",
            "            {'svc__C': 10.0, 'svc__kernel': 'poly'},\n",
            "            {'svc__C': 10.0, 'svc__kernel': 'rbf'},\n",
            "            {'svc__C': 10.0, 'svc__kernel': 'sigmoid'},\n",
            "            {'svc__C': 100.0, 'svc__kernel': 'linear'},\n",
            "            {'svc__C': 100.0, 'svc__kernel': 'poly'},\n",
            "            {'svc__C': 100.0, 'svc__kernel': 'rbf'},\n",
            "            {'svc__C': 100.0, 'svc__kernel': 'sigmoid'}],\n",
            " 'rank_test_score': array([10,  1, 19, 19,  3,  2, 14, 18,  3, 11,  7, 17,  3, 11,  8, 16,  3,\n",
            "       13,  9, 15], dtype=int32),\n",
            " 'split0_test_score': array([0.82051282, 0.83333333, 0.        , 0.        , 0.83333333,\n",
            "       0.83333333, 0.80769231, 0.02564103, 0.83333333, 0.80769231,\n",
            "       0.83333333, 0.52564103, 0.83333333, 0.80769231, 0.82051282,\n",
            "       0.53846154, 0.83333333, 0.75641026, 0.76923077, 0.56410256]),\n",
            " 'split1_test_score': array([0.70886076, 0.73417722, 0.        , 0.        , 0.73417722,\n",
            "       0.72151899, 0.6835443 , 0.01265823, 0.73417722, 0.67088608,\n",
            "       0.70886076, 0.44303797, 0.73417722, 0.67088608, 0.72151899,\n",
            "       0.5443038 , 0.73417722, 0.64556962, 0.70886076, 0.5443038 ]),\n",
            " 'split2_test_score': array([0.70886076, 0.75949367, 0.        , 0.        , 0.72151899,\n",
            "       0.75949367, 0.6835443 , 0.        , 0.73417722, 0.73417722,\n",
            "       0.74683544, 0.21518987, 0.73417722, 0.75949367, 0.72151899,\n",
            "       0.46835443, 0.73417722, 0.7721519 , 0.72151899, 0.46835443]),\n",
            " 'split3_test_score': array([0.73417722, 0.79746835, 0.        , 0.        , 0.81012658,\n",
            "       0.79746835, 0.74683544, 0.        , 0.81012658, 0.74683544,\n",
            "       0.79746835, 0.36708861, 0.81012658, 0.73417722, 0.75949367,\n",
            "       0.44303797, 0.81012658, 0.6835443 , 0.75949367, 0.43037975]),\n",
            " 'split4_test_score': array([0.78481013, 0.82278481, 0.        , 0.        , 0.82278481,\n",
            "       0.82278481, 0.72151899, 0.01265823, 0.81012658, 0.78481013,\n",
            "       0.82278481, 0.30379747, 0.81012658, 0.7721519 , 0.82278481,\n",
            "       0.39240506, 0.81012658, 0.79746835, 0.81012658, 0.39240506]),\n",
            " 'std_fit_time': array([ 5.81107927,  0.14182939,  2.03247869,  1.71951816,  1.14107695,\n",
            "        5.69413038,  1.74005145,  1.9850213 ,  0.9730042 ,  5.30303121,\n",
            "        2.99995902,  1.32518238,  3.55244683,  5.54325031,  1.04351255,\n",
            "        5.16498136, 39.1506197 ,  4.22790854,  4.97711293,  2.59670274]),\n",
            " 'std_score_time': array([0.45361692, 0.00991984, 0.08716743, 0.10987747, 0.0229207 ,\n",
            "       0.93614372, 0.04663948, 0.11915288, 0.20935325, 0.99628169,\n",
            "       0.24551557, 0.17064823, 0.03362449, 0.0737585 , 0.223587  ,\n",
            "       0.5089881 , 0.56539042, 0.47112659, 0.20096298, 0.23870883]),\n",
            " 'std_test_score': array([0.04429132, 0.03755985, 0.        , 0.        , 0.0469171 ,\n",
            "       0.04142764, 0.04625644, 0.00957696, 0.04186369, 0.04701758,\n",
            "       0.04716688, 0.10762117, 0.04186369, 0.04563407, 0.04504554,\n",
            "       0.05777768, 0.04186369, 0.0571097 , 0.03606882, 0.06554211])}\n"
          ]
        }
      ]
    },
    {
      "cell_type": "code",
      "source": [
        "!git init"
      ],
      "metadata": {
        "colab": {
          "base_uri": "https://localhost:8080/"
        },
        "id": "MIgar8rDAyPB",
        "outputId": "9701f9ac-05fa-40f8-f475-b4a1eb668a4b"
      },
      "execution_count": null,
      "outputs": [
        {
          "output_type": "stream",
          "name": "stdout",
          "text": [
            "Initialized empty Git repository in /content/.git/\n"
          ]
        }
      ]
    }
  ]
}